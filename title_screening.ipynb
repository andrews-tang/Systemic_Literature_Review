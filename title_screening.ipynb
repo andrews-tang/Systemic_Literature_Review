{
  "cells": [
    {
      "cell_type": "code",
      "execution_count": null,
      "metadata": {
        "id": "xIprLhBUxUc_"
      },
      "outputs": [],
      "source": [
        "# from google.colab import drive"
      ]
    },
    {
      "cell_type": "code",
      "execution_count": null,
      "metadata": {
        "colab": {
          "base_uri": "https://localhost:8080/"
        },
        "id": "QxSRzevyxdJW",
        "outputId": "6a5d0107-8ae2-4d08-e7b0-45f6642e3c32"
      },
      "outputs": [
        {
          "name": "stdout",
          "output_type": "stream",
          "text": [
            "Mounted at /content/drive\n"
          ]
        }
      ],
      "source": [
        "# drive.mount(\"/content/drive\")\n",
        "# drive.mount(\"/content/drive\", force_remount=True)"
      ]
    },
    {
      "cell_type": "markdown",
      "metadata": {},
      "source": [
        "## Imports"
      ]
    },
    {
      "cell_type": "code",
      "execution_count": 8,
      "metadata": {},
      "outputs": [],
      "source": [
        "import bibtexparser\n",
        "import re\n",
        "import codecs"
      ]
    },
    {
      "cell_type": "markdown",
      "metadata": {},
      "source": [
        "### Strip out other special characters"
      ]
    },
    {
      "cell_type": "code",
      "execution_count": 4,
      "metadata": {},
      "outputs": [],
      "source": [
        "def strip_special_characters(text):\n",
        "    # Remove special characters using regex\n",
        "    cleaned_text = re.sub(r'[^A-Za-z\\s]', '', text)\n",
        "\n",
        "    return cleaned_text"
      ]
    },
    {
      "cell_type": "markdown",
      "metadata": {},
      "source": [
        "### Title Screening using keywords"
      ]
    },
    {
      "cell_type": "code",
      "execution_count": 14,
      "metadata": {},
      "outputs": [],
      "source": [
        "\n",
        "def create_filtered_bib1(bib_file, output_file):\n",
        "    with open(bib_file, 'r', encoding='utf-8') as bibtex_file:\n",
        "        bib_database = bibtexparser.load(bibtex_file)\n",
        "\n",
        "    filtered_entries = []\n",
        "    filtered_titles = []\n",
        "\n",
        "    for entry in bib_database.entries:\n",
        "        if 'title' in entry:\n",
        "            title = entry['title'].lower()\n",
        "            title = strip_special_characters(title)\n",
        "            # if 'food' in title and ('blockchain' in title or 'iot' in title or 'internet of things' in title):\n",
        "            # if ('food' or 'traceability' in title) or ('food' or 'blockchain' in title):\n",
        "            # if ('food' in title) and ('blockchain' in title) and ('iot' in title):\n",
        "            # if ('food' in title) and ('blockchain' in title) and ('traceability' in title):\n",
        "            # if ('food' in title) and ('blockchain' in title) and ('internet of things' in title):\n",
        "            if ('blockchain' in title) and (('iot'in title) or ('internet of thing' in title)) and (('traceability' in title) or ('tracking' in title) or 'supply chain' in title) and ('food' or 'agriculture' in title):\n",
        "                filtered_entries.append(entry)\n",
        "\n",
        "\n",
        "    bib_database.entries = filtered_entries\n",
        "\n",
        "\n",
        "    with open(output_file, 'w', encoding='utf-8') as output_bibtex_file:\n",
        "        bibtexparser.dump(bib_database, output_bibtex_file)\n",
        "\n"
      ]
    },
    {
      "cell_type": "code",
      "execution_count": 15,
      "metadata": {},
      "outputs": [],
      "source": [
        "input_bib_file = 'all_papers.bib'\n",
        "# input_bib_file = '/content/drive/MyDrive/demo.bib'\n",
        "output_file ='filtered_titles.bib'\n",
        "results = create_filtered_bib1(input_bib_file, output_file)"
      ]
    },
    {
      "cell_type": "code",
      "execution_count": null,
      "metadata": {},
      "outputs": [],
      "source": []
    },
    {
      "cell_type": "code",
      "execution_count": 17,
      "metadata": {
        "id": "kMunQDwxwB_o"
      },
      "outputs": [],
      "source": [
        "# Load and parse the BibTeX file\n",
        "with open('filtered_titles.bib', encoding='utf-8') as bibtex_file:\n",
        "    bib_database = bibtexparser.load(bibtex_file)\n",
        "\n",
        "# Define the desired phrases to search for\n",
        "desired_phrases = [\"proposed\", \"implemented\"]\n",
        "\n",
        "# List to store relevant papers\n",
        "relevant_papers = []\n",
        "\n",
        "# Iterate over BibTeX entries\n",
        "for entry in bib_database.entries:\n",
        "    abstract = entry.get('abstract', '')\n",
        "    abstract = strip_special_characters(abstract)\n",
        "\n",
        "\n",
        "    # Check if desired phrases are present in the abstract or title\n",
        "    if any(phrase in abstract.lower() for phrase in desired_phrases):\n",
        "        relevant_papers.append({'abstract': abstract})"
      ]
    },
    {
      "cell_type": "code",
      "execution_count": 18,
      "metadata": {
        "colab": {
          "base_uri": "https://localhost:8080/"
        },
        "id": "LSkCkKlpwB7l",
        "outputId": "ce0a983a-ea97-412d-8ecc-167a05a668b3"
      },
      "outputs": [
        {
          "data": {
            "text/plain": [
              "([{'abstract': 'Many food contamination incidents have occurred during the last decade which has proven the failure of the food supply chain management system to track the food money and information movement within the food supply chain Many models have been established This paper presents the design and implementation of the new model providing realtime data acquisition monitoring and storing on a tamperproof blockchain of the main food supply movement This system is using smart contracts that are deployed on the Ethereum blockchain to allow every participant to transact securely with other FSC players IoT networks are implemented in different workplaces to gather multiple data about food status without human involvement to ensure transparency by different sensors Machine learning models are established to ensure the correctness of the collected data and help drive decision making within the application or businesses   Lviv Polytechnic National University'},\n",
              "  {'abstract': 'By  the worlds population will have increased by  to more than  billion people needing a  increase in food production Prepare more dishes with fewer ingredients Therefore the critical goal of manufacturers is to increase production while being ecologically benign Supply chain systems that do not enable direct farmertoconsumer connection and rising input costs influence data collection security and sharing Constraints on data security manipulation and singlepoint failure are unfulfilled due to a lack of centralized IoT agricultural infrastructure To address these issues the article proposes a blockchainbased IoT model This study also shows oneofakind energy savings The decentralization of data storage improves the supply chains transparency and quality through blockchain technology thus farmers can engage more efficiently Blockchain technology improves supply chain traceability and security This article provides a transparent decentralized blockchain tracking solution and proposes an intelligent model protocol for several Internet of Things IoT devices that monitor crop development and the agricultural environment A new approach has resolved the bulk of the supply chain difficulties Smart contracts were utilized to organize all transactions in decentralized supply networks The use of blockchain technology improves transaction quality and customers may verify the legitimacy of an items authenticity and legality by using the system A total of  IoT nodes were distributed randomly to each  m cluster farm The Internet of Things nodes were used to assess soil moisture temperature and crop disease Network stability period and network life of the proposed method show  accuracy The food supply chain will be more efficient and trustworthy with an intelligent model The immutability of ledger technology and smart contract support further increases supply chain security privacy transparency and trust among all stakeholders in the multiparty system By  the worlds population will need a  increase in food production The food supply chain will be more efficient and trustworthy with an intelligent model This article provides a transparent decentralized and intelligent model protocol for several Internet of Things IoT devices   Anass Hamadelneel Adow et al'},\n",
              "  {'abstract': '  proposed a blockchainbased SC by industrial IoT and blockchain for realtime data  a public blockchain platform to verify the food quality and origin tracking of organic food SC '},\n",
              "  {'abstract': 'Modernday agriculture supply chains have evolved from sovereign and autonomous local stakeholders to a worldwide interconnected system of multiple participants linked by complicated interactions impacting the production processing transportation and delivery of food to end consumers Regular instances of fraudulent acts reveal a lack of openness in agriculture supply chains raising worries about financial losses eroding customer trust and lowering corporate brand value To develop an efficient and reliable trading environment several fundamental modifications in the present supply chain architecture are required There is broad consensus that blockchain can improve transparency in agriculturefood supply chains agrifood SCs Consumers now demand safe sustainable and equitable food production processes and businesses are using blockchains and the internet of things to meet these needs For enhanced responsiveness in agrifood SCs new concepts have evolved that combine blockchains with various Industry  technologies eg blockchain technology big data internet of things IoT radio frequency identification RFID near field communication NFC etc It is critical to cut through the hype and examine the technologys limits which might stymie its acceptance implementation and scalability in agrifood supply chains This study presents AgriSCMBIoT Agriculture Supply Chain Management using Blockchain and Internet of things architecture to address the storage and scalability optimization interoperability security and privacy issues security and privacy of personal data along with storage concerns with present singlechain agriculture supply chain systems We also discussed the classification of security threats with IoT infrastructure and possible available blockchainbased defense mechanisms Finally we discussed the features of the proposed supply chain architecture followed by a conclusion and future work   by the authors Licensee MDPI Basel Switzerland'},\n",
              "  {'abstract': 'India is yet to meet  blood unit requirements from blood donations across the country On top of that there is a huge wastage of blood due to lack of a proper monitoring system There are also many instances of loss of lives infection of HIV and other severe diseases due to transfusion of unfit blood So in this work we have designed a Blockchain based Blood Supply Chain Management System to address these critical issues associated with blood donation The system supports all stakeholders involved with the traditional blood donation process namely Donor Inspection Center Hospitals Blood Banks and Blood Donation Registry In addition to the inherent advantages of Blockchain like immutability availability transparency security auditability the system is designed to provide authentication attribute based access control and authorisation multi party endorsements IoT based automated data insertion directly into the ledger and source tracking of blood The main aim of the proposed system is to bring the much needed transparency and accountability into the blood donation framework and with the features mentioned the system has the capability to radically change the blood donation scenario in India The proposed system is implemented using Hyperledger Fabric a private Blockchain which allows only restricted access to the system by the stakeholders Every event is recorded as a transaction in the ledger by the miners Smart contracts are used to enforce business logic and necessary constraints in the system We did comparative analysis of the system against other similar available systems and also evaluated the performance based on throughput and latency Results showed that the system performance is up to the mark   The Authors under exclusive license to Springer Nature Singapore Pte Ltd'},\n",
              "  {'abstract': 'The pigeon food production industry from breeding to processing into food for market circulation involves many stages and people which is prone to food safety issues and difficult to regulate To address these problems one possible solution is to establish a traceability system However in traditional traceability systems a number of stages involved and each of them provides their own data accumulated in the database Therefore complex traceability data are compose of too many stages easily result in confusing information for customers Besides centralized data storage makes data vulnerable to be tampered with To solve these problems hazard analysis and critical control points HACCP principles have been utilized in our work which is a comprehensive traceability system In this work we analyze the pigeon food production industry through HACCP principles and determine some critical control points CCPs including incubation breeding transportation slaughtering processing and logistics With the help of these CCPs we are able to build a traceability system with critical and abundant data but not too complicated for users To further improve the system there are different kinds of techniques integrated into it Firstly a permissioned blockchain Hyperledger Fabric is selected as blockchain module to enhance trustworthiness of data Secondly the system contains various IoT devices for automatically collecting environmental parameter data with the aim of reducing human interference Besides it is worth mentioning that the proposed information management device can decrease the data entry burden Consequently the implementation of the traceability system increase consumers confidence in pigeon food production To summarize it is a new application of modern agricultural information technique in food safety and a bold experiment in the field of poultry particularly pigeons   The Authors'},\n",
              "  {'abstract': 'Growth towards Industry  has a significant impact on the textile manufacturing industry In this emerging technology the business and engineering processes are interconnected The product traceability system is playing a vital role in each sector Unfortunately the traditional systems in textile manufacturing industries faced a lot of challenges due to inhouse process and supply chain complexity These systems do not provide a means for reliable and rapid response to backtrack data throughout the textile process of the product Blockchain and Internet of Things IoT based processes have the capacity to overcome these challenges while deploying over the traditional product traceability system The blockchain and IoT based system provides many benefits such as communication between product process flow to improve the performance and reduce risk improve quality continuous involvement of worker product fault traceability increase supply chain visibility and customers reliability and trustability In this paper we proposed Blockchain and IoT based product traceability system This system facilitates all stakeholders like Raw Material Suppliers Yarn Manufacturers Customers and Consumers to track monitor and quality of the product and efficient tracking of the supply chain This proposed solution will help textile manufacturers to improve the efficiency and quality of each product The customers reliability and trustability will boost the manufacturer due to automated data insertion through the IoT technology decentralized immutable auditable and fault tolerance blockchain technology and traceability features   Springer Nature Switzerland AG'},\n",
              "  {'abstract': 'Facilities based on the Internet of Things and embedded systems along with the application of ambient intelligence paradigms offer new scenarios for optimization services in agronomic processes specifically in the hemp industry The traceability of products and activities demonstrates the scope of these technologies However the technologies themselves introduce integrationrelated problems that can affect the planned benefits This article proposes a model that balances agricultural expert knowledge usercentered design value chain planning through blockchain implementation and digital technology Internet of Things protocols for providing tamper proof transparent and secure traceability in this agricultural sector The proposed approach is backed by a proofofconcept implementation in a realist scenario using embedded devices and a permissioned blockchain The model and its deployment fully integrate a set of services that other proposals only partially integrate On one hand the design creates a permissioned blockchain that contemplates the different actors in the value chain and on the other hand it develops services that use applications with humanmachine interfaces Finally it deploys a network of embedded devices with Internet of Things protocols and control algorithms with automated access to the blockchain for traceability services Combining digital systems with interoperable human tasks it has been possible to deploy a model that provides a new approach for the development of valueadded services'},\n",
              "  {'abstract': 'In todays globalized world there is no transparency in exchanging data and information between producers and consumers However these tasks experience many challenges such as administrative barriers confidential data leakage and extensive time delays To overcome these challenges we propose a decentralized secured and verified smart chain framework using Ethereum Smart Contract which employs Inter Planetary File Systems IPFS and MongoDB as storage systems to automate the process and exchange information into blocks using the Tendermint algorithm The proposed work promotes complete traceability of the product ensures data integrity and transparency in addition to providing security to their personal information using the Lelantos mode of shipping The Tendermint algorithm helps to speed up the process of validating and authenticating the transaction quickly More so in this time of pandemic it is easier to meet the needs of customers through the Ethermint Smart Chain which increases customer satisfaction thus boosting their confidence Moreover Smart contracts help to exploit more international transaction services and provide an instant block time finality of around  sec using Ethermint The paper concludes with a description of product storage and distribution adopting the Ethermint technique The proposed system was executed based on the EthereumTendermint Smart chain Experiments were conducted on variable block sizes and the number of transactions The experimental results indicate that the proposed system seems to perform better than existing blockchainbased systems Two configuration files were used the first one was to describe the storage part including its topology The second one was a modified file to include the test rounds that Caliper should execute including the running time and the workload content Our findings indicate this is a promising technology for food supply chain storage and distribution Copyright   KSII'},\n",
              "  {'abstract': 'Recently the interest around the Blockchain concept has grown faster and as a consequence several studies about the possibility of exploiting such technology in different application domains have been conducted Most of these studies highlighted the benefits that the use of the blockchain could bring in those contexts where integrity and authenticity of the data are important eg for reasons linked to regulations about consumers healthcare In such cases it would be important to collect data coming in realTime through sensors and then store them in the blockchain so that they can become immutable and tamperproof In this paper the design and development of a software framework that allows InternetofThings IoT devices to interact directly with an Ethereumbased blockchain are reported The proposed solution represents an alternative way for integrating a wide category of IoT devices without relying on a centralized intermediary and thirdparty services The main application scenario for which the project has been conceived regards foodchain traceability in the Industry  domain Indeed the designed system has been integrated into the depiction of a use case for monitoring the temperature of fish products within a warehouse and during the delivery process   MDPI AG All rights reserved'},\n",
              "  {'abstract': 'Asbestos has been considered as a hazardous waste in France since  and it is neither recyclable nor recoverable Hence its storage and processing have a major impact on both human health and environment In addition its treatment is subject to very strict environmental regulations Hence to minimize the environmental regulations impact the treatment of asbestos requires tools and new information technology IT enabling realtime information sharing with all reverse supply chain RSC actors A successful integration of new IT such as Blockchain technology and Internet of Things IoT can lead to several advantages in order to help asbestos waste management This study aims at integrating and combining Blockchain and IoT to digitize RSC for asbestos waste treatment First we investigate the roles and impacts of Blockchain and IoT on forward and reverse supply chain performances Second we propose two new conceptual models for both open and close loop digital RSC Finally to demonstrate the feasibility and effectiveness of integration and combination of these digital technologies we propose a case study for asbestos waste management The results show that the combination of Blockchain and IoT can be implemented to provide robust digital RSC'},\n",
              "  {'abstract': ' management based on IoT devices for traceability and provides security timely data delivery and efficient multihopping in a lowcost implementation Many architectures proposed in '},\n",
              "  {'abstract': 'The integration of blockchain and Industrial Internet of Things IIoT results in a new model of supply chain in which blockchain provides common platform to record the data whereas IIoT facilitates connectivity of the devices The temperproof record traceability and verification of each step transparency from manufacturing to final availability of the product is made possible through blockchain which results in a transparent supply chain However the highlevel transparency also increases the risk of disclosure of businessrelated and personal information minimum privacy such as business secrets intellectual property and special incentives to adversaries Consequently a tradeoff between transparency and privacy is established Therefore this work proposes a blockchainbased supply chain management in the context of IIoT known as SMIIoT which discusses this transparencyprivacy tradeoff Furthermore the tradeoff problem is turned into a Game in which the participants act as players whereas the transparency and privacy leakage are the payoff and loss respectively Consequently the players compete to maximize their payoffs but minimize their individual losses due to privacy leakage Nash equilibrium gives the solution for the Game which optimizes the payoffs of the players eg maximum transparency and minimum privacy leakage The scenario is implemented through Hyperledger fabric HF blockchain Moreover the results suggested that the proposed SMIIoT outperforms the game theory based privacy preserving analysis approach in big data GBPPABD in terms of transparency Furthermore the comparison with other similar works revealed that SMIIoT owns the key attributes of the supply chain including transparencyprivacy tradeoff fairness and competitive behavior modeling of the participants'},\n",
              "  {'abstract': 'The fish industry experiences substantial illegal unreported and unregulated IUU activities within traditional supply chain systems Blockchain technology and the Internet of Things IoT are expected to transform the fish supply chain SC by incorporating distributed ledger technology DLT to build trustworthy transparent decentralized traceability systems that promote secure data sharing and employ IUU prevention and detection methods We have reviewed current research efforts directed toward incorporating Blockchain in fish SC systems We have discussed traceability in both traditional and smart SC systems that make use of Blockchain and IoT technologies We demonstrated the key design considerations in terms of traceability in addition to a quality model to consider when designing smart Blockchainbased SC systems In addition we proposed an Intelligent Blockchain IoTenabled fish SC framework that uses DLT for the trackability and traceability of fish products throughout harvesting processing packaging shipping and distribution to final delivery More precisely the proposed framework should be able to provide valuable and timely information that can be used to track and trace the fish product and verify its authenticity throughout the chain Unlike other work we have investigated the benefits of integrating machine learning ML into Blockchain IoTenabled SC systems focusing the discussion on the role of ML in fish quality freshness assessment and fraud detection   by the authors'},\n",
              "  {'abstract': 'Recycling of electronic waste is a rapidly growing global issue that requires proper monitoring and tracing of electronic devices and the business transactions between the stakeholders The majority of current systems that manage electronic devices throughout their supply chain stages are centralized and lack data transparency immutability and security Specifically such systems are incapable of handling problems like comprehensive coverage of the life cycle of eproducts access control for maintaining data security reputationaware selection of stakeholders and large amounts of data generated during various stages of the supply chain processes In this paper we propose a blockchainbased IoTenabled system for monitoring all postproduction business processes activities and operations performed on an electronic device The system is supported by five smart contracts that record the actions of users on the immutable distributed ledger that aid in ensuring that the business processes carried out by the participants are transparent traceable and secure To store large files such as images of ewaste materials products and licenses for stakeholders we have integrated our system with a distributed storage system The proposed system is tested on Ethereum blockchain to check the gas consumption of the functions of the smart contracts The cost and security analysis shows that the proposed system is viable'},\n",
              "  {'abstract': ' In blockchain and IoT based network using to maintain data analytics on the proposed smart model results in quality of soil food safety food traceability crop production and financial '},\n",
              "  {'abstract': 'Configuring a trustworthy Internet of Things IoTenabled building information modeling BIM platform IBP is significant for modular construction to ensure transparency traceability and immutability throughout its fragmented supply chain management However most current IBPs are designed adopting a centralized system architecture which fails to achieve a decentralized and effective one to ensure a single point of truth in BIM and prevent a single point of failure in IoT networks To address this challenge this study introduces permissioned blockchain with IBP and proposes a novel serviceoriented system architecture of blockchainenabled IoTBIM platform BIBP for the datainformationknowledge DIKdriven supply chain management in modular construction First infrastructure as a service IaaS is designed with hardware core technologies and protocols to offer accurate data from daily practice to blockchain BIM Blockchain BIM as a service BaaS is then developed within the permissioned blockchain to ease the interoperability of the information semantics and meaningful inferences Furthermore software as a service SaaS is configured with decentralized applications to achieve knowledgeable operations or processes with a crash faulttolerant consensus mechanism The demonstrative case study in a modular student residence project evaluates the proposed BIBP system prototype with the performance analysis of storage cost throughput latency privacy and feedback from stakeholders The results indicate that BIBP has an effective system architecture with acceptable throughput and latency can save storage costs to achieve a single point of truth in BIM and avoid a single point of failure for IoT networks with privacy and securitypreserving mechanisms   American Society of Civil Engineers'},\n",
              "  {'abstract': 'In this paper a food anticounterfeiting traceability system based on blockchain and the Internet of Things is proposed in response to the problems of data centrebased storage easy data tampering and data silos in traditional food anticounterfeiting traceability technology The system makes use of the decentralized storage and untamperable characteristics of blockchain technology to store traceability data of food in the process of food production sale and transportation so as to ensure the uniqueness of food At the same time through the Internet of things technology to ensure the authenticity and reliability of the source data of the blockchain The experimental results show that the system has higher security lower transaction delay and lower communication cost'},\n",
              "  {'abstract': 'This paper presents a continuous deliverycontinuous verifiability CDCV method for IoT dataflows in edgefogcloud A CD model based on extraction transformation and load ETL mechanism as well as a directed acyclic graph DAG construction enable endusers to create efficient schemes for the continuous verification and validation of the execution of applications in edgefogcloud infrastructures This scheme also verifies and validates established execution sequences and the integrity of digital assets CV model converts ETL and DAG into business model smart contracts in a private blockchain for the automatic and transparent registration of transactions performed by each application in workflowspipelines created by CD model without altering applications nor edgefogcloud workflows This model ensures that IoT dataflows delivers verifiable information for organizations to conduct critical decisionmaking processes with certainty A containerized parallelism model solves portability issues and reducescompensates the overhead produced by CDCV operations We developed and implemented a prototype to create CDCV schemes which were evaluated in a case study where user mobility information is used to identify interest points patterns and maps The experimental evaluation revealed the efficiency of CDCV to register the transactions performed in IoT dataflows through edgefogcloud in a private blockchain network in comparison with stateofart solutions'},\n",
              "  {'abstract': ' Many works have been proposed in the literature using blockchain to  a blockchainIoT based traceability architecture adapted to the BB logistic chain context In addition the IoT data '},\n",
              "  {'abstract': 'The Internet of Things IoT has grown rapidly over the last decade as an emerging technology offering various Internetenabled devices to communicate in different contexts With an everincreasing time frame of the digital world traceability and authentication have gained enormous significance In general a trusted third party is used to authenticate users devices or services in an IoT environment However in such situations this centralized third party will become the focus of cyberattacks might not be the best solution In this paper a new authentication algorithm has been proposed to prevent malicious IoT devices We address the traceability and authentication issues in IoT devices This paper presents the concept of a blockchain that integrates Physical Unclonable Functions PUFs to solve security issues malicious activities latency and energy consumption challenges The results show that the proposed solution outperforms existing solutions with less computational overhead Similarly the possibility of an attack is decreased compared to the current system Throughput is enhanced by  over the present system while latency is decreased by  over the previous technique As a consequence the likelihood of an attack is decreased by  compared to the existing technique'},\n",
              "  {'abstract': 'Nowadays blockchain technology plays a vital role in creative developments and important discoveries in the world Blockchain develops secure and trustworthy platforms for data sharing in various application areas such as secure sharing of medical data Antimoney laundering tracking systems Supply chain and logistics monitoring Cryptocurrency exchange etc Todays Supply chain in the healthcare sector faces many problems like security transparency tampering with medical products counterfeit drugs more paperwork high cost and more timeconsuming process while transporting medical equipment from manufacture to endusers To overcome these problems we introduce Novel Approach for Integrated IoT Internet of Things With Blockchain in Health Supply Chain NAIBHSC approach By using this approach we can eliminate all supply chainrelated issues between suppliers and endusers The goal of this research is by combining Blockchain technology with IoT to develop a smart health supply chain management system This approach provides security privacy trust visibility decentralized tracking and tracing of the medical product avoids counterfeit drugs avoids the damage to medical components authentication reduces the cost and provides the status of the products during the shipment process between manufacturers to enduser In this approach we conduct a series of experiments on a different group of users The experimental results show that compare to existing approaches our proposed NAIBHSC approach gives better response time that is the average Transaction Per Second TPS for a group of  users is  milliseconds reduces the latency time that is average latency time for  users group has  milliseconds and improves the overall performance of the smart health supply chain management system   The Authors under exclusive licence to Springer ScienceBusiness Media LLC part of Springer Nature'},\n",
              "  {'abstract': ' This paper has proposed a novel supply chain model for COVID using robust technologies such as Blockchain and the Internet of Things Besides it automates the entire vaccination '},\n",
              "  {'abstract': 'There is a wide recognition that Blockchain technology will play a central role in many sectors In fact this technology is a promising opportunity to ensure security traceability privacy and transparency in most digitized human activities The supply chain of hazardous materials is a typical sensitive industrial activity that requires a high level of vigilance The various stakeholders of such supply chain need to share crucial data using high secure channels while ensuring traceability However Blockchain is currently an energyintensive technology In this context the challenge is to minimize the risk related to the hazardous materials supply chain using an ecofriendly and cost effective Blockchain In this paper we propose a greenBlockchain based framework for the hazardous materials supply chain Two mathematical models are proposed for the energy management consumed by Blockchain transactions The first one minimizes the total consumed energy by a set of servers by providing the optimal assignment of computing tasks over the time periods while the second one minimizes both the CO emissions and the cost of a grid energy mix To prove the applicability of the proposed framework a Blockchain prototype is implemented to simulate an IoTbased supply chain of hazardous materials The results show that the proposed system may help to ensure the security of dangerous goods transportation Furthermore the energy management using optimization modeling would provide CO emissions reduction and thus ensure sustainability of Blockchain transactions   Elsevier Ltd'},\n",
              "  {'abstract': 'Blockchain is an egressing digitally managed technology which allows ubiquitous monetary transactions with the untrusted entities without involving the intermediary bodies viz banks The literature reveals that IoT along with blockchain technology BT offers various benefits to the functioning of the agriculture supply chain AgriChain It is going to be implemented with which BT is going to perform a change in paradigm in which the transactions will be taken care of by reducing the number of intermediaries making fast payment procedures among the parties Developing economies with an evergrowing population country like India caters to food security demands and faces lots of challenges pretending agriculture supply chain sustainability Therefore it is crucial to follow BT in the agriculture supply chain to leverage multiple profits In this chapter we develop a queueing model which evaluates in detail the characteristics of an AgriChain system and measures the performance of the model such as the number of transactions expected that are waiting inside the queue to enter into the block mean transactions waiting in the block waiting for the time of a transaction confirmation time of any transaction etc   Springer Nature Switzerland AG'},\n",
              "  {'abstract': ' A traceability system based on blockchain and IoT was proposed in  with a focus on food safety based on Hazard Analysis and Critical Control Points HACCP The study describe '},\n",
              "  {'abstract': 'The conventional method of implementing supply chain management suffers several limitations like cost unpredictability complicated environment and wideopen access to sensitive information To defeat these issues the supply chains should be progressively more intelligent To build a largescale smart infrastructure of physical objects products and all the other supply chainrelated processes supply chain management can be integrated with the Internet of things IoT Open interrelation communication opens several threats in the supply chain environment In the proposed work we construct a supply chain network SCN secured with blockchain to find the optimum route of a product from a manufacturer to customer and to trace back a product to its origin A genetic algorithmbased scheme is used to find the optimum route for a product and approach to trace back the origin of a product is proposed which is especially beneficial in cases like a product turning out to be infected and the need to track the rest of the products of that batch Simulation results are compared using two different consensuses for verification of transactions PoW and proof of elapsed time Graphical results show that proof of elapsed time outperforms PoW in terms of cost processing power and transaction verify per second  The Authors under exclusive license to Springer Nature Singapore Pte Ltd '},\n",
              "  {'abstract': 'Blockchain is an innovative technology which enabled new applications for solving numerous problems in distributed environments such as the internet of things IoT equipped food supply chains FSCs In FSCs the large volume of IoT data such as audio video images and sensor data will be transferred to ensure the traceability of the food to its source When blockchain technology is used in an FSC the storage requirements in the nodes will grow with time since blockchain only allows information adding without deleting the already stored information Therefore it is evident that offchain storage offers more flexibility than onchain storage in IoT equipped supply chains This paper proposes a scalable storage scheme using offchain storage where the data from IoT devices in the supply chain will store offchain To reduce the growth of offchain storage we exploit the fact that some information regarding a particular food item may not be required after the expiration date The scalability of the proposed scheme is validated through numerical and experimental results'},\n",
              "  {'abstract': ' blockchain and Internet of Things IoT inspired solution for the Agro food supply chain and data protection is proposed in light of the issues with food safety a general blockchain IoT '},\n",
              "  {'abstract': 'In this paper we successfully designed and developed Thai agriculture products traceability system using blockchain and Internet of Things Blockchain which is the distributed database is used for our proposed traceability system to enhance the transparency and data integrity OurSQL is added on another layer to easier query process of blockchain database therefore the proposed system is a userfriendly system which cannot be found in ordinary blockchain database The website and android application have been developed to show the tracking information of the product The blockchain database coupling with Internet of Things give a number of benefits for our traceability system because all of the collecting information is in realtime and kept in a very secured database Our system could have a huge impact on food traceability and supply chain management become more reliable as well as rebuild public awareness in Thailand on food safety and quality control   The Science and Information SAI Organization Limited'},\n",
              "  {'abstract': 'Supply Chain SC networks benefit from the integration of Blockchain Technology BT and the Internet of Things IoT in many ways from data protection and transparency to fraud prevention traceability and cost reduction As the technology is new there is a lack of knowledge and experience in selecting suitable platforms for SC networks Choosing the right platform is a difficult and complex task involving multiple and conflicting criteria This study presents a novel practical approach for evaluating and selecting a BTIoT platform in SC networks using multicriteria decisionmaking First an extensive literature review is conducted to determine the most suitable criteria for BTIoT platform selection Then using the interval Weighted Influence Nonlinear Gauge System WINGS method the weights of the criteria are calculated and finally an interval VIseKriterijumska Optimizacija I Kompromisno Resenje VIKOR technique is used to assess the suitability of the platforms The proposed approach uses the experts preferences considers the interdependencies among criteria in the weighting process and enables implementation in a hierarchical and interconnected network We present a case study in the food industry to demonstrate the applicability of the proposed model Additional sensitivity analysis is conducted to exhibit the efficacy of the proposed model in selecting a suitable and robust platform in SC networks   Elsevier BV'},\n",
              "  {'abstract': ' In this article we proposed a new decentralized traceability system based on internet of things and blockchain technology and explored the challenges in scaling blockchains in general'},\n",
              "  {'abstract': 'Rapid urbanization has recently caused serious problems for cities all around the world Smart cities have drawn much interest from researchers in the present research paradigm to manage the expanding urban population Frameworks for smart cities are planned and implemented using platforms based on blockchain and the Internet of Things BIOT Smart cities may use the BIoT platform to provide improved transportation food traceability and healthcare services Food safety is one of the sectors where less research has been done than the others The importance of food safety is now more widely recognized making it essential to improve the traceability and transparency of the food supply chain In this paper a novel BIOTbased layered framework using EOSIO has been proposed for effective food traceability The proposed system first identifies the suitable traceability units to provide better transparency and traceability and then defines and implements a layered architecture using Ethereum and EOSIO blockchain platforms The performance of the proposed EOSIObased model is evaluated using the practicality of the consensus algorithm block production rate throughput and block confirmation time The proposed traceability system attains a block production rate of  s and a block confirmation time of  s which is much lower than the Ethereumbased traceability system Hence from the experimental evidence the superiority of the proposed EOSIObased food traceability can be observed   The Authors under exclusive licence to Springer ScienceBusiness Media LLC part of Springer Nature'},\n",
              "  {'abstract': 'Food traceability has been one of the emerging blockchain applications in recent years for improving the areas of anticounterfeiting and quality assurance Existing food traceability systems do not guarantee a high level of system reliability scalability and information accuracy Moreover the traceability process is timeconsuming and complicated in modern supply chain networks To alleviate these concerns blockchain technology is promising to create a new ontology for supply chain traceability However most consensus mechanisms and data flow in blockchain are developed for cryptocurrency not for supply chain traceability hence simply applying blockchain technology to food traceability is impractical In this paper a blockchainIoTbased food traceability system BIFTS is proposed to integrate the novel deployment of blockchain IoT technology and fuzzy logic into a total traceability shelf life management system for managing perishable food To address the needs for food traceability lightweight and vaporized characteristics are deployed in the blockchain while an integrated consensus mechanism that considers shipment transit time stakeholder assessment and shipment volume is developed The data flow of blockchain is then aligned to the deployment of IoT technologies according to the level of traceable resource units Subsequently the decision support can be established in the food supply chain by using reliable and accurate data for shelf life adjustment and by using fuzzy logic for quality decay evaluation'},\n",
              "  {'abstract': 'The publics health depends on a reliable drug supply chain Recently the number of drug counterfeit has increased drastically resulting in thousands of victims suffering from poisoning andor treatment failures which have resulted in new expectations on drug supply chain traceability Indeed the drug supply chain involves many parties having heterogeneous interests and are usually reluctant to share traceability data with each other Furthermore existing traceability and provenance systems for drug supply chains suffer from separated data storage lack of information sharing transparency and trust Decentralized blockchainbased solutions are advocated to address these limitations by realizing decentralized trustless systems In this work we present a fully decentralized blockchainbased drug traceability solution worthy of seamless integrating IoT devices throughout the chain It uses both smart contracts and decentralized offchain storage to remove the need for middleman and to provide trusted secure and immutable transaction history Moreover to preserve the traceability of drugs it ensures and enforces data provenance and data integrity in the proposed IoT environment by using blockchain NonFungible Tokens NFTs We give a test and validation of the approachs effectiveness in enhancing drug traceability supply chains as well as an analysis of the approachs costs and security   The Authors'},\n",
              "  {'abstract': 'A framework combining the Internet of Things IoT and blockchain can help achieve system automation and credibility and the corresponding technologies have been applied in many industries especially in the area of agricultural product traceability In particular IoT devices radio frequency identification RFID geographic information system GIS global positioning system GPS etc can automate the collection of information pertaining to the key aspects of traceability The data are collected and input to the blockchain system for processing storage and query A distributed decentralized and nontamperable blockchain can ensure the security of the data entering the system However IoT devices may generate abnormal data in the process of data collection In this context it is necessary to ensure the accuracy of the source data of the traceability system Considering the wholeprocess traceability chain of agricultural products this paper analyzes the wholeprocess information of a tea supply chain from planting to sales constructs the system architecture and each function and designs and implements a machine learning ML blockchainIoTbased tea credible traceability system MBITTS Based on IoT technologies such as radio frequency identification RFID sensors this article proposes a new method that combines blockchain and ML to enhance the accuracy of blockchain source data In addition system data storage and indexing methods and scanning and recovery mechanisms are proposed Compared with the existing agricultural product tea traceability system based on blockchain the introduction of the ML data verification mechanism can ensure the accuracy up to  of information on the chain The proposed solution provides a basis to ensure the safety reliability and efficiency of agricultural traceability systems   Yuting Wu et al'},\n",
              "  {'abstract': ' product traceability system BIOTTS that based on blockchain and Internet of things IoT  as well as the easytampered traceability information The proposed system possesses the '}],\n",
              " 37)"
            ]
          },
          "execution_count": 18,
          "metadata": {},
          "output_type": "execute_result"
        }
      ],
      "source": [
        "relevant_papers, len(relevant_papers)"
      ]
    },
    {
      "cell_type": "code",
      "execution_count": null,
      "metadata": {},
      "outputs": [],
      "source": []
    },
    {
      "cell_type": "code",
      "execution_count": null,
      "metadata": {},
      "outputs": [],
      "source": []
    },
    {
      "cell_type": "code",
      "execution_count": null,
      "metadata": {},
      "outputs": [],
      "source": []
    },
    {
      "cell_type": "code",
      "execution_count": null,
      "metadata": {},
      "outputs": [],
      "source": []
    },
    {
      "cell_type": "code",
      "execution_count": null,
      "metadata": {},
      "outputs": [],
      "source": []
    },
    {
      "cell_type": "markdown",
      "metadata": {
        "id": "T7-CpRsDak5q"
      },
      "source": [
        "# Testing Code"
      ]
    },
    {
      "cell_type": "code",
      "execution_count": null,
      "metadata": {
        "id": "qW0_BNfaQa8k"
      },
      "outputs": [],
      "source": [
        "\n",
        "import bibtexparser\n",
        "\n",
        "def create_filtered_bib(bib_file):\n",
        "    with open(bib_file, 'r') as bibtex_file:\n",
        "        bib_database = bibtexparser.load(bibtex_file)\n",
        "\n",
        "    filtered_entries = []\n",
        "\n",
        "    for entry in bib_database.entries:\n",
        "        if 'title' in entry:\n",
        "            title = entry['title'].lower()\n",
        "            # if 'food' in title and ('blockchain' in title or 'iot' in title or 'internet of things' in title):\n",
        "            # if 'pied' in title and 'peiper' in title and 'paper' in title and 'dummy' in title:\n",
        "            if ('food' in title) and ('blockchain' in title) and ('internet of things' in title):\n",
        "            # if ('food' in title) and ('blockchain' in title) and ('traceability' in title):\n",
        "                filtered_entries.append(entry)\n",
        "\n",
        "    return filtered_entries"
      ]
    },
    {
      "cell_type": "code",
      "execution_count": null,
      "metadata": {
        "id": "LVtuMpuyiK_c"
      },
      "outputs": [],
      "source": [
        "input_bib_file = '/content/drive/MyDrive/demo.bib'"
      ]
    },
    {
      "cell_type": "code",
      "execution_count": null,
      "metadata": {
        "colab": {
          "base_uri": "https://localhost:8080/"
        },
        "id": "-S8eAF7gqIVy",
        "outputId": "a0f89210-5eb7-472b-f113-2689fd304167"
      },
      "outputs": [
        {
          "name": "stdout",
          "output_type": "stream",
          "text": [
            "Integrated blockchain and internet of things in the food supply chain: {Adoption} barriers\n",
            "Internet of things and blockchain technologies for food safety systems\n"
          ]
        }
      ],
      "source": [
        "filtered_papers = create_filtered_bib(input_bib_file)\n",
        "for paper in filtered_papers:\n",
        "    print(paper['title'])"
      ]
    },
    {
      "cell_type": "code",
      "execution_count": null,
      "metadata": {
        "colab": {
          "base_uri": "https://localhost:8080/"
        },
        "id": "Jkvmw1z1qqar",
        "outputId": "e3a548cb-a6a5-4a7d-9124-6123f0807a49"
      },
      "outputs": [
        {
          "data": {
            "text/plain": [
              "17"
            ]
          },
          "execution_count": 26,
          "metadata": {},
          "output_type": "execute_result"
        }
      ],
      "source": [
        "len(filtered_papers)"
      ]
    },
    {
      "cell_type": "markdown",
      "metadata": {
        "id": "BNke2wZo2GSh"
      },
      "source": [
        "Old Code"
      ]
    },
    {
      "cell_type": "code",
      "execution_count": null,
      "metadata": {
        "id": "rOKvKa1Pyygu"
      },
      "outputs": [],
      "source": [
        "import bibtexparser\n",
        "\n",
        "def screen_titles(bib_file):\n",
        "    with open(bib_file, 'r') as file:\n",
        "        bib_database = bibtexparser.load(file)\n",
        "\n",
        "    screened_entries = []\n",
        "\n",
        "    for entry in bib_database.entries:\n",
        "        title = entry.get('title', '').lower()\n",
        "        keywords = entry.get('keywords', '').lower()\n",
        "\n",
        "        # if ('pied' in title and 'peiper' in title and 'paper' in title and 'dummy' in title) or ('dipper' in title and 'dummy' in title and 'title' in title):\n",
        "        # if 'food' in title and ('blockchain' in title or 'iot' in title or 'internet of things' in title):\n",
        "        if ('food' in title) and ('blockchain' in title) and ('iot' in title):\n",
        "            screened_entries.append(entry)\n",
        "\n",
        "    return screened_entries\n"
      ]
    },
    {
      "cell_type": "code",
      "execution_count": null,
      "metadata": {
        "colab": {
          "base_uri": "https://localhost:8080/"
        },
        "id": "L63JN4LPLRdO",
        "outputId": "6c0874c8-6b94-41ec-bdc6-75c8b6cc7204"
      },
      "outputs": [
        {
          "name": "stdout",
          "output_type": "stream",
          "text": [
            "Pied Peiper Paper Dummy Title\n"
          ]
        }
      ],
      "source": [
        "# Example usage\n",
        "# bib_file = 'MyLibrary.bib'\n",
        "bib_file = '/content/drive/MyDrive/demo.bib'\n",
        "# keywords = ['blockchain', 'food'] #ditched 'iot', 'internet of things',\n",
        "\n",
        "# screened_papers = screen_titles(bib_file)\n",
        "\n",
        "# # Print the screened papers\n",
        "# for paper in screened_papers:\n",
        "#     print(paper['title'])\n"
      ]
    },
    {
      "cell_type": "code",
      "execution_count": null,
      "metadata": {
        "colab": {
          "base_uri": "https://localhost:8080/"
        },
        "id": "DlDcm81VemPe",
        "outputId": "0bc35f33-fc0e-4360-f06f-9d1ea380ec0c"
      },
      "outputs": [
        {
          "name": "stdout",
          "output_type": "stream",
          "text": [
            "A decentralized model to ensure traceability and sustainability of the food supply chain by combining blockchain, {IoT}, and machine learning\n",
            "Characterization and {Costs} of {Integrating} {Blockchain} and {IoT} for {Agri}-{Food} {Traceability} {Systems}\n",
            "Analysis of {Agriculture} and {Food} {Supply} {Chain} through {Blockchain} and {IoT} with {Light} {Weight} {Cluster} {Head}\n",
            "Scalable {Storage} {Scheme} for {Blockchain}-{Enabled} {IoT} {Equipped} {Food} {Supply} {Chains}\n",
            "Blockchain and {IoT}'s role in {Agri} {Food} {Supply} {Chain} {Traceability}\n",
            "{IoT} {Based} {Cold} {Chain} {Logistics} with {Blockchain} for {Food} {Monitoring} {Application}\n",
            "Blockchain {Security} {Implementation} using {Python} with {NB}-{IoT} deployment in {Food} {Supply} {Chain}\n",
            "{PININ}: increasing customer awareness through an innovative {IoT} and blockchain-based high quality food product tracking system\n",
            "Blockchain-{Driven} {IoT} for {Food} {Traceability} {With} an {Integrated} {Consensus} {Mechanism}\n",
            "Integrating {Blockchain}, {Smart} {Contract}-{Tokens}, and {IoT} to {Design} a {Food} {Traceability} {Solution}\n",
            "Agriculture-{Food} {Supply} {Chain} {Management} {Based} on {Blockchain} and {IoT}: {A} {Narrative} on {Enterprise} {Blockchain} {Interoperability}\n",
            "Adaptation of {IoT} with {Blockchain} in {Food} {Supply} {Chain} {Management}: {An} {Analysis}-{Based} {Review} in {Development}, {Benefits} and {Potential} {Applications}\n",
            "An {Iot} and {Blockchain} {Approach} for {Food} {Traceability} {System} in {Agriculture}\n",
            "Analysis of {IoT} and {Blockchain} {Technology} for {Agricultural} {Food} {Supply} {Chain} {Transactions}\n",
            "{IoT}-{Blockchain} driven traceability techniques for improved safety measures in food supply chain\n",
            "Garbage in garbage out: {The} precarious link between {IoT} and blockchain in food supply chains\n",
            "Improving {Traceability} {Using} {Blockchain} and {Internet} of {Things} ({IoT}) in the {Food} {Supply} {Chain}\n",
            "Combining blockchain and iot: {Food}-chain traceability and beyond\n",
            "Enablers to achieve zero hunger through {IoT} and blockchain technology and transform the green food supply chain systems\n",
            "Enhancing {Traceability} in {Food} {Supply} {Chains} {Using} {Blockchain} and {IoT} {Technologies}\n",
            "Blockchain and {IoT} {Technologies} for {Sustainable} {Food} {Supply} {Chain} {Management} and {Traceability} for {SMEs}\n",
            "Blockchain and {IoT} based {Food} {Traceability} {System}\n",
            "{IoT}-blockchain enabled optimized provenance system for food industry 4.0 using advanced deep learning\n",
            "Blockchain {Database} and {IoT}: {A} {Technology} driven {Agri}-{Food} {Supply} {Chain}\n",
            "Development of a blockchain-enabled {IoT} system for perishable food e-fulfilment\n",
            "Using {Blockchain} \\& {Internet} of {Things} ({IoT}) in {Agri}-{Food} {Supply} {Chain} {Traceability}\n",
            "The {Impact} {Technologies} of {Blockchain} and {IoT}, on {Food} {Security}\n",
            "Decentralizing {Online} {Food} {Delivery} {Services}: {A} {Blockchain} and {IoT} {Model} for {Smart} {Cities}\n",
            "Blockchain and {IoT}'s role in {Agri} {Food} {Supply} {Chain} {Traceability}\n",
            "Blockchain integrated {IOT} for {Food} {Supply} {Chain}: {A} grey based {Delphi}-{DEMA}℡ approach\n",
            "{IoT} and blockchain-based smart agri-food supply chains\n",
            "Benchmarking constrained {IoT} devices in blockchain-based agri-food traceability applications\n",
            "Applications and challenges of blockchain with {IoT} in food supply chain management system: a review\n",
            "{IoT} and blockchain based framework for logistics in food supply chains\n",
            "Integrated {Agri}-{Food} {Supply} {Chain} {Model}: {An} {Application} of {IoT} and {Blockchain}\n",
            "Blockchain and {IoT}-{Based} {Traceability} for an {Efficient} {Food} {Supply} {Chain}: {State}-of-the-{Art} {Literature} {Review}.\n",
            "Recording provenance of food delivery using {IoT}, semantics and business blockchain networks\n",
            "Blockchain driven {IoT} based {Delish2Go} decentralized food delivery application\n",
            "Chapter {Eight} {AI}-{Enabled} {IoT} {Network} {In} {The} {Agricultural} {Food} {Chain} {Using} {Blockchain} {Technology}\n",
            "{IoT} with blockchain: {A} futuristic approach in agriculture and food supply chain\n",
            "The investigation of blockchain and {IoT} integration for designing trust-driver information systems in agricultural food supply chain.\n",
            "A framework for {IoT} and blockchain based smart food chain management system\n",
            "Blockchain {Security} {Through} {SHA}-512 {Algorithm} {Implementation} {Using} {Python} with {NB}-{IoT} {Deployment} in {Food} {Supply} {Chain}\n",
            "{BioTrak}: {A} {Blockchain}-based {Platform} for {Food} {Chain} {Logistics} {Traceability}\n",
            "Blockchain and {IoT} {Based} {Smart} {Agriculture} and {Food} {Supply} {Chain} {System}\n",
            "Blockchain and {IoT} based food traceability for smart agriculture\n",
            "Blockchain and {IoT} technologies to improve the agricultural food supply chain\n",
            "Blockchain-based food tracking for intelligent farming using {IoT}\n",
            "An {IoT} blockchain architecture using oracles and smart contracts: the use-case of a food supply chain\n"
          ]
        }
      ],
      "source": [
        "screened_papers = screen_titles(bib_file)\n",
        "\n",
        "# Print the screened papers\n",
        "for paper in screened_papers:\n",
        "    print(paper['title'])"
      ]
    },
    {
      "cell_type": "code",
      "execution_count": null,
      "metadata": {
        "colab": {
          "base_uri": "https://localhost:8080/"
        },
        "id": "9SF0ej9uyyRc",
        "outputId": "ce6a3188-555e-4013-807b-6a42d47d7399"
      },
      "outputs": [
        {
          "data": {
            "text/plain": [
              "49"
            ]
          },
          "execution_count": 39,
          "metadata": {},
          "output_type": "execute_result"
        }
      ],
      "source": [
        "len(screened_papers)"
      ]
    },
    {
      "cell_type": "code",
      "execution_count": null,
      "metadata": {
        "id": "VjXkNeCAZkJv"
      },
      "outputs": [],
      "source": []
    }
  ],
  "metadata": {
    "colab": {
      "provenance": []
    },
    "kernelspec": {
      "display_name": "Python 3",
      "name": "python3"
    },
    "language_info": {
      "codemirror_mode": {
        "name": "ipython",
        "version": 3
      },
      "file_extension": ".py",
      "mimetype": "text/x-python",
      "name": "python",
      "nbconvert_exporter": "python",
      "pygments_lexer": "ipython3",
      "version": "3.11.4"
    }
  },
  "nbformat": 4,
  "nbformat_minor": 0
}
